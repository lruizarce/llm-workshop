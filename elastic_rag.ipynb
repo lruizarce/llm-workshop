{
 "cells": [
  {
   "cell_type": "code",
   "execution_count": null,
   "id": "a1ead5d8-81ef-44f1-8d09-9e6532578094",
   "metadata": {},
   "outputs": [],
   "source": []
  }
 ],
 "metadata": {
  "kernelspec": {
   "display_name": "",
   "name": ""
  },
  "language_info": {
   "name": ""
  }
 },
 "nbformat": 4,
 "nbformat_minor": 5
}
